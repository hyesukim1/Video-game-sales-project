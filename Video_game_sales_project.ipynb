{
  "nbformat": 4,
  "nbformat_minor": 0,
  "metadata": {
    "colab": {
      "name": "Video game sales project",
      "private_outputs": true,
      "provenance": [],
      "authorship_tag": "ABX9TyPRhbtrApgW2gDz3M3n7L+4",
      "include_colab_link": true
    },
    "kernelspec": {
      "name": "python3",
      "display_name": "Python 3"
    },
    "language_info": {
      "name": "python"
    }
  },
  "cells": [
    {
      "cell_type": "markdown",
      "metadata": {
        "id": "view-in-github",
        "colab_type": "text"
      },
      "source": [
        "<a href=\"https://colab.research.google.com/github/hyesukim1/Video-game-sales-project/blob/main/Video_game_sales_project.ipynb\" target=\"_parent\"><img src=\"https://colab.research.google.com/assets/colab-badge.svg\" alt=\"Open In Colab\"/></a>"
      ]
    },
    {
      "cell_type": "code",
      "source": [
        "!git clone [github link]"
      ],
      "metadata": {
        "id": "N7mnWoXl5S_H"
      },
      "execution_count": null,
      "outputs": []
    },
    {
      "cell_type": "code",
      "execution_count": null,
      "metadata": {
        "id": "RB_W0wgIGCH_"
      },
      "outputs": [],
      "source": [
        "import pandas as pd\n",
        "import numpy as np\n",
        "\n",
        "df = pd.read_csv('https://ds-lecture-data.s3.ap-northeast-2.amazonaws.com/datasets/vgames2.csv')\n",
        "#df.drop(['Unnamed: 0'], axis = 1, inplace = True)#unnamed 컬럼 제거"
      ]
    },
    {
      "cell_type": "code",
      "source": [
        "#unnamed 컬럼 제거\n",
        "df.drop(['Unnamed: 0'], axis = 1, inplace = True)\n",
        "\n",
        "#year데이터 2글자를 4글자로 수정\n",
        "def year(x):\n",
        "   if x <= 20:\n",
        "     x += 2000\n",
        "     return x\n",
        "   elif x > 20 and x <= 100:\n",
        "     x += 1900\n",
        "     return x\n",
        "   else:\n",
        "     return x\n",
        "\n",
        "df['Year'] = df['Year'].apply(year)\n"
      ],
      "metadata": {
        "id": "jUt1xPjwGIdi"
      },
      "execution_count": null,
      "outputs": []
    },
    {
      "cell_type": "code",
      "source": [
        "def M(string):\n",
        "  return str(string.replace('M',''))\n",
        "\n",
        "df['NA_Sales'] = df['NA_Sales'].apply(M)\n",
        "df['EU_Sales'] = df['EU_Sales'].apply(M)\n",
        "df['JP_Sales'] = df['JP_Sales'].apply(M)\n",
        "df['Other_Sales'] = df['Other_Sales'].apply(M)"
      ],
      "metadata": {
        "id": "qDQmfwh9GOBz"
      },
      "execution_count": null,
      "outputs": []
    },
    {
      "cell_type": "code",
      "source": [
        "df = df[~df['NA_Sales'].str.contains(\"K\")]\n",
        "df = df[~df['EU_Sales'].str.contains(\"K\")]\n",
        "df = df[~df['JP_Sales'].str.contains(\"K\")]\n",
        "df = df[~df['Other_Sales'].str.contains(\"K\")]"
      ],
      "metadata": {
        "id": "8_8823XsZYYS"
      },
      "execution_count": null,
      "outputs": []
    },
    {
      "cell_type": "code",
      "source": [
        "import pandas as pd\n",
        "df['NA_Sales'] = df['NA_Sales'].apply(pd.to_numeric)\n",
        "df['EU_Sales'] = df['EU_Sales'].apply(pd.to_numeric)\n",
        "df['JP_Sales'] = df['JP_Sales'].apply(pd.to_numeric)\n",
        "df['Other_Sales'] = df['Other_Sales'].apply(pd.to_numeric)\n",
        "\n",
        "df.head()"
      ],
      "metadata": {
        "id": "cI9jH9Zd2WNN"
      },
      "execution_count": null,
      "outputs": []
    },
    {
      "cell_type": "code",
      "source": [
        "df['Global_Sales'] = df[['NA_Sales','EU_Sales','JP_Sales','Other_Sales']].sum(axis=1)\n",
        "df"
      ],
      "metadata": {
        "id": "kYgOB61W6MQO"
      },
      "execution_count": null,
      "outputs": []
    },
    {
      "cell_type": "code",
      "source": [
        "import pandas as pd\n",
        "import numpy as np\n",
        "from statsmodels.formula.api import ols\n",
        "from statsmodels.stats.anova import anova_lm\n",
        "import statsmodels.stats.multicomp as mc\n",
        "import matplotlib.pyplot as plt\n",
        "import seaborn as sns\n",
        "\n",
        "#Q1.지역에 따라 선호하는 게임 장르 확인, 지역별 팔린 게임의 평균은 같은가?\n",
        "df1 = df.iloc[:,[3,5,6,7,8]]\n",
        "df1"
      ],
      "metadata": {
        "id": "_4tjefpLocUf"
      },
      "execution_count": null,
      "outputs": []
    },
    {
      "cell_type": "code",
      "source": [
        "#아노바 테스트 진행: P값이 0.005이하로 귀무가설을 기각하고 대립가설을 채택\n",
        "\n",
        "import scipy.stats as stats\n",
        "import pandas as pd\n",
        "import urllib\n",
        "from statsmodels.formula.api import ols\n",
        "from statsmodels.stats.anova import anova_lm\n",
        "import matplotlib.pyplot as plt\n",
        "import numpy as np\n",
        "%matplotlib inline\n",
        "import seaborn as sns\n",
        "!sudo apt-get install -y fonts-nanum\n",
        "!sudo fc-cache -fv\n",
        "!rm ~/.cache/matplotlib -rf\n",
        "plt.rc('font', family='NanumBarunGothic') \n",
        "plt.rc('axes', unicode_minus=False)\n",
        "\n",
        "df_melt = df.iloc[:,[5,6,7,8]]\n",
        "\n",
        "df_melt1 = pd.melt(df_melt.reset_index(), id_vars=['index'], value_vars=['NA_Sales', 'EU_Sales', 'JP_Sales','Other_Sales'])\n",
        "df_melt1\n",
        "\n",
        "F_statistic, pVal = stats.f_oneway(df['NA_Sales'],df['EU_Sales'],df['JP_Sales'],df['Other_Sales'])\n",
        "\n",
        "print('아노바테스트 : F={0:.1f}, p={1:.10f}'.format(F_statistic, pVal))"
      ],
      "metadata": {
        "id": "cU8n3Z0Ozg4v"
      },
      "execution_count": null,
      "outputs": []
    },
    {
      "cell_type": "code",
      "source": [
        "#북미지역 판매량 순으로 장르 확인\n",
        "\n",
        "df_Nas = pd.pivot_table(df,\n",
        "                     index='Genre', \n",
        "                     values='NA_Sales', \n",
        "                     aggfunc=np.sum)\n",
        "df_Nas1 = df_Nas.sort_values(by='NA_Sales',ascending=False)\n",
        "df_Nas1.plot.bar(color='green', alpha=0.5)\n",
        "plt.show()"
      ],
      "metadata": {
        "id": "RUlUV2J5R8HB"
      },
      "execution_count": null,
      "outputs": []
    },
    {
      "cell_type": "code",
      "source": [
        "#유럽지역 판매량 순으로 장르 확인\n",
        "df_Eus = pd.pivot_table(df,\n",
        "                     index='Genre', \n",
        "                     values='EU_Sales', \n",
        "                     aggfunc=np.sum)\n",
        "df_Eus1 = df_Eus.sort_values(by='EU_Sales',ascending=False)\n",
        "df_Eus1.plot.bar(color='green', alpha=0.5)\n",
        "plt.show()"
      ],
      "metadata": {
        "id": "A3qkeykLcbD0"
      },
      "execution_count": null,
      "outputs": []
    },
    {
      "cell_type": "code",
      "source": [
        "#일본지역 판매량 순으로 장르 확인\n",
        "df_Jps = pd.pivot_table(df,\n",
        "                     index='Genre', \n",
        "                     values='JP_Sales', \n",
        "                     aggfunc=np.sum)\n",
        "df_Jps1 = df_Jps.sort_values(by='JP_Sales',ascending=False)\n",
        "df_Jps1.plot.bar(color='green', alpha=0.5)\n",
        "plt.show()"
      ],
      "metadata": {
        "id": "xt0kkq4Rclsq"
      },
      "execution_count": null,
      "outputs": []
    },
    {
      "cell_type": "code",
      "source": [
        "#기타지역 판매량 순으로 장르 확인\n",
        "df_other = pd.pivot_table(df,\n",
        "                     index='Genre', \n",
        "                     values='Other_Sales', \n",
        "                     aggfunc=np.sum)\n",
        "df_other1 = df_other.sort_values(by='Other_Sales',ascending=False)\n",
        "df_other1.plot.bar(color='green', alpha=0.5)\n",
        "plt.show()"
      ],
      "metadata": {
        "id": "ldMPlFU3crQp"
      },
      "execution_count": null,
      "outputs": []
    },
    {
      "cell_type": "markdown",
      "source": [
        "___\n",
        "___"
      ],
      "metadata": {
        "id": "HHmKsL9lFAQZ"
      }
    },
    {
      "cell_type": "code",
      "source": [
        "#연도별 각 장르의 판매합계 확인\n",
        "import matplotlib.pyplot as plt\n",
        "%matplotlib inline\n",
        "\n",
        "df_aff = df.groupby(by=['Year', 'Genre']).Global_Sales.sum().reset_index()\n",
        "pivot_df = pd.pivot_table(df_aff,\n",
        "                          index= 'Year', \n",
        "                          columns='Genre', \n",
        "                          values='Global_Sales', \n",
        "                          aggfunc='sum')\n",
        "pivot_df.fillna(0)\n",
        "\n",
        "\n",
        "pivot_df.plot.bar(stacked=True, figsize=(10,7))"
      ],
      "metadata": {
        "id": "hubyDikIl_Sn"
      },
      "execution_count": null,
      "outputs": []
    },
    {
      "cell_type": "code",
      "source": [
        "#년도별 세계 게임 구매량 추이 \n",
        "df_aff = df.groupby(by=['Year', 'Genre']).Global_Sales.sum().reset_index()\n",
        "sns.relplot(kind=\"line\", data=df_aff, x=\"Year\", y=\"Global_Sales\", hue=\"Genre\")"
      ],
      "metadata": {
        "id": "o0nxh5hAHLFz"
      },
      "execution_count": null,
      "outputs": []
    },
    {
      "cell_type": "code",
      "source": [
        "#장르별로 확인\n",
        "sns.relplot(\n",
        "    kind=\"line\", data=df_aff, x=\"Year\", y=\"Global_Sales\", hue=\"Genre\", \n",
        "    col=\"Genre\", col_wrap=4)"
      ],
      "metadata": {
        "id": "qPU-dyzxHUKl"
      },
      "execution_count": null,
      "outputs": []
    },
    {
      "cell_type": "code",
      "source": [
        "# 년도별 최다 판매량 기록한 장르 데이터프레임\n",
        "year_max_sales = df.groupby(['Year', 'Genre'])['Global_Sales'].sum().reset_index()\n",
        "condition = year_max_sales['Global_Sales'] == year_max_sales.groupby(['Year'])['Global_Sales'].transform(max)\n",
        "year_max_sales = year_max_sales[condition]\n",
        "year_max_sales.columns = ['년도', '장르', '전세계 판매량']\n",
        "\n",
        "# 장르 데이터 저장\n",
        "genre = year_max_sales['장르'].values\n",
        "\n",
        "# 그래프 그리기\n",
        "plt.figure(figsize=(28,10))\n",
        "ax = sns.barplot(x='년도', y='전세계 판매량', data=year_max_sales)\n",
        "idx = 0\n",
        "for value in year_max_sales['전세계 판매량']:\n",
        "    ax.text(x=idx, y=value + 2, s=str(genre[idx] + '---' + ' ' + str(round(value, 2))),\n",
        "            color='black', size=14, rotation=90, ha='center')\n",
        "    idx += 1\n",
        "ax.set_title('Year per Global Sales', y=1.06, fontsize=28, loc='left')\n",
        "plt.xticks(rotation=90, fontsize=12)\n",
        "plt.yticks(fontsize=12)\n",
        "plt.xlabel('Year', fontsize=20)\n",
        "plt.ylabel('Global Sales', fontsize=20)\n",
        "plt.show()"
      ],
      "metadata": {
        "id": "j-RUN_Te82_M"
      },
      "execution_count": null,
      "outputs": []
    },
    {
      "cell_type": "code",
      "source": [
        "#북미 장르별 최고 판매량\n",
        "\n",
        "region_top = df1.groupby('Genre').sum().reset_index()\n",
        "region_top\n",
        "\n",
        "#Region_top3 데이터\n",
        "NA_top = region_top.loc[:, ['Genre','NA_Sales']]\n",
        "NA_top1 = NA_top.sort_values(by=['NA_Sales'],ascending=False).head(3)\n",
        "NA_top1\n",
        "sns.barplot(\n",
        "    data= NA_top1,\n",
        "    x= \"Genre\",\n",
        "    y= \"NA_Sales\"\n",
        ")\n",
        "plt.show()\n"
      ],
      "metadata": {
        "id": "G9gABqkSAqgW"
      },
      "execution_count": null,
      "outputs": []
    },
    {
      "cell_type": "code",
      "source": [
        "#유럽 장르별 최고 판매량\n",
        "\n",
        "EU_top = region_top.loc[:, ['Genre','EU_Sales']]\n",
        "EU_top1 = EU_top.sort_values(by=['EU_Sales'],ascending=False).head(3)\n",
        "\n",
        "sns.barplot(\n",
        "    data= EU_top1,\n",
        "    x= \"Genre\",\n",
        "    y= \"EU_Sales\"\n",
        ")\n",
        "plt.show()"
      ],
      "metadata": {
        "id": "TTF7r1a812ER"
      },
      "execution_count": null,
      "outputs": []
    },
    {
      "cell_type": "code",
      "source": [
        "#일본 장르별 최고 판매량\n",
        "\n",
        "JP_top = region_top.loc[:, ['Genre','JP_Sales']]\n",
        "JP_top1 = JP_top.sort_values(by=['JP_Sales'],ascending=False).head(3)\n",
        "\n",
        "sns.barplot(\n",
        "    data= JP_top1,\n",
        "    x= \"Genre\",\n",
        "    y= \"JP_Sales\"\n",
        ")\n",
        "plt.show()"
      ],
      "metadata": {
        "id": "on9IIC14klPK"
      },
      "execution_count": null,
      "outputs": []
    },
    {
      "cell_type": "code",
      "source": [
        "#가타 장르별 최고 판매량\n",
        "\n",
        "Other_top = region_top.loc[:, ['Genre','Other_Sales']]\n",
        "Other_top1 = Other_top.sort_values(by=['Other_Sales'],ascending=False).head(3)\n",
        "\n",
        "sns.barplot(\n",
        "    data= Other_top1,\n",
        "    x= \"Genre\",\n",
        "    y= \"Other_Sales\"\n",
        ")\n",
        "plt.show()"
      ],
      "metadata": {
        "id": "lvjTwxXY2PRn"
      },
      "execution_count": null,
      "outputs": []
    },
    {
      "cell_type": "code",
      "source": [
        "#플랫폼 지역출고량 top3\n",
        "df2 = df.iloc[:,[1,5,6,7,8]]\n",
        "df2\n",
        "\n",
        "platform_top = df2.groupby('Platform').sum().reset_index()\n",
        "platform_top.head()"
      ],
      "metadata": {
        "id": "1I760mon2fB7"
      },
      "execution_count": null,
      "outputs": []
    },
    {
      "cell_type": "code",
      "source": [
        "#Platform_top3 데이터_NA\n",
        "P_NA_top = platform_top.loc[:, ['Platform','NA_Sales']]\n",
        "P_NA_top1 = P_NA_top.sort_values(by=['NA_Sales'],ascending=False).head(3)\n",
        "\n",
        "sns.barplot(\n",
        "    data= P_NA_top1,\n",
        "    x= \"Platform\",\n",
        "    y= \"NA_Sales\"\n",
        ")\n",
        "plt.show()"
      ],
      "metadata": {
        "id": "AjeTxzst8w7j"
      },
      "execution_count": null,
      "outputs": []
    },
    {
      "cell_type": "code",
      "source": [
        "#Platform_top3 데이터_EU\n",
        "P_EU_top = platform_top.loc[:, ['Platform','EU_Sales']]\n",
        "P_EU_top1 = P_EU_top.sort_values(by=['EU_Sales'],ascending=False).head(3)\n",
        "\n",
        "sns.barplot(\n",
        "    data= P_EU_top1,\n",
        "    x= \"Platform\",\n",
        "    y= \"EU_Sales\"\n",
        ")\n",
        "plt.show()"
      ],
      "metadata": {
        "id": "-QmAEgYlSqxv"
      },
      "execution_count": null,
      "outputs": []
    },
    {
      "cell_type": "code",
      "source": [
        "#Platform_top3 데이터_JP\n",
        "P_JP_top = platform_top.loc[:, ['Platform','JP_Sales']]\n",
        "P_JP_top1 = P_JP_top.sort_values(by=['JP_Sales'],ascending=False).head(3)\n",
        "\n",
        "sns.barplot(\n",
        "    data= P_JP_top1,\n",
        "    x= \"Platform\",\n",
        "    y= \"JP_Sales\"\n",
        ")\n",
        "plt.show()"
      ],
      "metadata": {
        "id": "0pu9C81e8oZl"
      },
      "execution_count": null,
      "outputs": []
    },
    {
      "cell_type": "code",
      "source": [
        "#Platform_top3 데이터_other\n",
        "P_Other_top = platform_top.loc[:, ['Platform','Other_Sales']]\n",
        "P_Other_top1 = P_Other_top.sort_values(by=['Other_Sales'],ascending=False).head(3)\n",
        "\n",
        "sns.barplot(\n",
        "    data= P_Other_top1,\n",
        "    x= \"Platform\",\n",
        "    y= \"Other_Sales\"\n",
        ")\n",
        "plt.show()"
      ],
      "metadata": {
        "id": "BLtPIQCR9RR0"
      },
      "execution_count": null,
      "outputs": []
    },
    {
      "cell_type": "code",
      "source": [
        "#퍼블리셔(회사)별 지역 출고량 top3\n",
        "\n",
        "df3 = df.iloc[:,[4,5,6,7,8]]\n",
        "df3"
      ],
      "metadata": {
        "id": "5rFk0vy97oMK"
      },
      "execution_count": null,
      "outputs": []
    },
    {
      "cell_type": "code",
      "source": [
        "publisher_top = df3.groupby('Publisher').sum().reset_index()\n",
        "publisher_top.head()\n",
        "\n",
        "Pu_NA_top = publisher_top.loc[:, ['Publisher','NA_Sales']]\n",
        "Pu_NA_top1 = Pu_NA_top.sort_values(by=['NA_Sales'],ascending=False).head(3)\n",
        "\n",
        "sns.barplot(\n",
        "    data= Pu_NA_top1,\n",
        "    x= \"Publisher\",\n",
        "    y= \"NA_Sales\"\n",
        ")\n",
        "plt.show()"
      ],
      "metadata": {
        "id": "9m02Jsz5KTTt"
      },
      "execution_count": null,
      "outputs": []
    },
    {
      "cell_type": "code",
      "source": [
        "Pu_EU_top = publisher_top.loc[:, ['Publisher','EU_Sales']]\n",
        "Pu_EU_top1 = Pu_EU_top.sort_values(by=['EU_Sales'],ascending=False).head(3)\n",
        "\n",
        "sns.barplot(\n",
        "    data= Pu_EU_top1,\n",
        "    x= \"Publisher\",\n",
        "    y= \"EU_Sales\"\n",
        ")\n",
        "plt.show()"
      ],
      "metadata": {
        "id": "3L1fWJqJJlT_"
      },
      "execution_count": null,
      "outputs": []
    },
    {
      "cell_type": "code",
      "source": [
        "Pu_JP_top = publisher_top.loc[:, ['Publisher','JP_Sales']]\n",
        "Pu_JP_top1 = Pu_JP_top.sort_values(by=['JP_Sales'],ascending=False).head(3)\n",
        "\n",
        "sns.barplot(\n",
        "    data= Pu_JP_top1,\n",
        "    x= \"Publisher\",\n",
        "    y= \"JP_Sales\"\n",
        ")\n",
        "plt.show()"
      ],
      "metadata": {
        "id": "W6T-5nS5LT63"
      },
      "execution_count": null,
      "outputs": []
    },
    {
      "cell_type": "code",
      "source": [
        "Pu_Other_top = publisher_top.loc[:, ['Publisher','Other_Sales']]\n",
        "Pu_Other_top1 = Pu_Other_top.sort_values(by=['Other_Sales'],ascending=False).head(3)\n",
        "\n",
        "sns.barplot(\n",
        "    data= Pu_Other_top1,\n",
        "    x= \"Publisher\",\n",
        "    y= \"Other_Sales\"\n",
        ")\n",
        "plt.show()"
      ],
      "metadata": {
        "id": "zUi5V-xKMfgl"
      },
      "execution_count": null,
      "outputs": []
    },
    {
      "cell_type": "code",
      "source": [
        "#출고량이 높은 게임 시각화\n",
        "import matplotlib.font_manager as fm\n",
        "\n",
        "#게임별 글로벌 판매량 상위 10개 데이터 추출\n",
        "df_game_name = df.loc[df.Global_Sales.sort_values(ascending=False).index].reset_index().head(10)\n",
        "df_game_name #연도가 섞여있음(날짜 기준 넣고 수정 필요)\n",
        "\n",
        "\n",
        "df_game_name_glo = df_game_name.iloc[:10,[1,10]]\n",
        "df_game_name_glo\n",
        "\n",
        "df_game_name_glo.plot.barh(x='Name', y='Global_Sales',  cmap='Pastel1')\n",
        "plt.xlabel('Total Sales')\n",
        "plt.ylabel('Game Name')\n",
        "plt.show()#Wii sports>Super Mario Bros > Mario Kart Wii 순으로 높은것을 확인"
      ],
      "metadata": {
        "id": "3gcitSzHjXiM"
      },
      "execution_count": null,
      "outputs": []
    },
    {
      "cell_type": "code",
      "source": [
        "#파이차트 데이터 준비\n",
        "labels = ['Wii Sports', 'Super Mario Bros', 'Mario Kart Will', 'Wii Sports Resort', 'Pokemon Red/Pokemon Blue'] # 라벨설정\n",
        "labels\n",
        "frequency = [82,40,35,33,31] # 빈도 설정\n",
        " \n",
        "fig = plt.figure(figsize=(8,8)) # 캔버스 생성\n",
        "fig.set_facecolor('white') # 캔버스 배경색을 하얀색으로 설정\n",
        "\n",
        "explode = [0.1,0,0,0,0]\n",
        "plt.pie(frequency, # 파이차트 출력\n",
        "       explode = explode,\n",
        "       labels=labels,\n",
        "       shadow=True,\n",
        "       startangle=90, #시작점을 90도(degree)로 지정\n",
        "       textprops={'fontsize': 14},\n",
        "       counterclock=False, # 시계 방향으로 그린다.\n",
        "       autopct=lambda p : '{:.2f}%'.format(p), # 퍼센티지 출력\n",
        "       colors = ['palevioletred','lightpink','pink','lavenderblush','snow']\n",
        "       )\n",
        "\n",
        "plt.title('Total Top 5 sales for game', fontsize=20)\n",
        "plt.show()"
      ],
      "metadata": {
        "id": "xr3pqWE90d9f"
      },
      "execution_count": null,
      "outputs": []
    },
    {
      "cell_type": "code",
      "source": [
        "#2017년 기준으로 최신 5년내에 글로벌 판매량 상위 10개 게임 데이터 추출\n",
        "\n",
        "df_game_name_glo_Y = df[df.Year >= 2013].sort_values('Global_Sales', ascending=False).head(10)\n",
        "df_game_name_glo_Y = df_game_name_glo_Y.reset_index(drop=True)\n",
        "df_game_name_glo_Y\n",
        "\n",
        "df_game_name_glo_Y_cut= df_game_name_glo_Y.iloc[:10,[0,9]]\n",
        "df_game_name_glo_Y_cut\n",
        "\n",
        "df_game_name_glo_Y_cut.plot.barh(x='Name', y='Global_Sales', color='lightsteelblue')\n",
        "plt.xlabel('Total Sales')\n",
        "plt.ylabel('Game Name')\n",
        "plt.show()"
      ],
      "metadata": {
        "id": "vJSoDp_ykmkd"
      },
      "execution_count": null,
      "outputs": []
    },
    {
      "cell_type": "code",
      "source": [
        "labels = ['Grand Theft Auto V(PS3)', 'Grand Theft Auto V(X360)', 'Call of Duty: Black Ops 3', 'Grand Theft Auto V(PS4)', 'Pokemon Omega Ruby/Pokemon Alpha Sapphire'] # 라벨\n",
        "labels\n",
        "colors = ['royalblue','cornflowerblue','lighskyblue','lightcyan','aliceblue']\n",
        "colors = colors\n",
        "frequency = [21,16,14,11,11] # 빈도\n",
        " \n",
        "fig = plt.figure(figsize=(8,8)) # 캔버스 생성\n",
        "fig.set_facecolor('white') # 캔버스 배경색을 하얀색으로 설정\n",
        "\n",
        "explode = [0.1,0,0,0,0]\n",
        "plt.pie(frequency, # 파이차트 출력\n",
        "       explode = explode,\n",
        "       labels=labels,\n",
        "       shadow=True,\n",
        "       startangle=90, # 시작점을 90도(degree)로 지정\n",
        "       textprops={'fontsize': 14},\n",
        "       counterclock=False, # 시계 방향으로 그린다.\n",
        "       autopct=lambda p : '{:.2f}%'.format(p), # 퍼센티지 출력\n",
        "       colors = ['royalblue','cornflowerblue','lightskyblue','aliceblue','ghostwhite']\n",
        "       )\n",
        "\n",
        "plt.title('Top 5 sales for game_recent 5years', fontsize=20)\n",
        "plt.show()\n",
        "\n",
        "\n"
      ],
      "metadata": {
        "id": "c8Xh7zWUIr-Y"
      },
      "execution_count": null,
      "outputs": []
    }
  ]
}